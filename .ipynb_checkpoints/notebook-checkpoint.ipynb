{
 "cells": [
  {
   "cell_type": "markdown",
   "metadata": {},
   "source": [
    "# Business understanding."
   ]
  },
  {
   "cell_type": "markdown",
   "metadata": {},
   "source": [
    "As a data scientist, my primary focus is on leveraging data-driven insights and statistical analysis to provide valuable solutions and recommendations. In this capacity, SyriaTel, the leading mobile operator in Syria, becomes a key stakeholder in my project. SyriaTel's extensive operations, serving over 13 million customers with a broad spectrum of mobile services and a vast network infrastructure, present an opportunity for me to analyze and extract actionable information from their data.\n",
    "The goal is to collaborate with SyriaTel to uncover valuable patterns and trends in their customer data, with a specific focus on addressing customer churn and enhancing the overall customer experience. By working closely with SyriaTel, I aim to assist the company in optimizing its strategies for customer retention, improving service offerings, and ultimately contributing to the company's continued success in the dynamic telecommunications industry."
   ]
  },
  {
   "cell_type": "markdown",
   "metadata": {},
   "source": [
    "## Problem Statement:\n",
    "To minimize customer churn and the associated financial losses, I aim to develop a predictive binary classification model. This model will assess customer behavior and characteristics to determine the likelihood of a customer leaving SyriaTel shortly. By identifying patterns that precede customer attrition, I can enable SyriaTel to take proactive measures, such as targeted retention strategies, to retain valuable customers. This project is essential for the telecom business to enhance customer satisfaction and reduce revenue erosion."
   ]
  },
  {
   "cell_type": "markdown",
   "metadata": {},
   "source": [
    "# Data Understanding.\n"
   ]
  },
  {
   "cell_type": "markdown",
   "metadata": {},
   "source": [
    "### Load the dataset"
   ]
  },
  {
   "cell_type": "code",
   "execution_count": 1,
   "metadata": {},
   "outputs": [],
   "source": [
    "# load necessary dataset\n",
    "import pandas as pd\n",
    "import seaborn as sns\n",
    "import datetime as dt\n",
    "import matplotlib.pyplot as plt\n",
    "import matplotlib.ticker as ticker"
   ]
  },
  {
   "cell_type": "code",
   "execution_count": 2,
   "metadata": {},
   "outputs": [
    {
     "data": {
      "text/html": [
       "<div>\n",
       "<style scoped>\n",
       "    .dataframe tbody tr th:only-of-type {\n",
       "        vertical-align: middle;\n",
       "    }\n",
       "\n",
       "    .dataframe tbody tr th {\n",
       "        vertical-align: top;\n",
       "    }\n",
       "\n",
       "    .dataframe thead th {\n",
       "        text-align: right;\n",
       "    }\n",
       "</style>\n",
       "<table border=\"1\" class=\"dataframe\">\n",
       "  <thead>\n",
       "    <tr style=\"text-align: right;\">\n",
       "      <th></th>\n",
       "      <th>state</th>\n",
       "      <th>account length</th>\n",
       "      <th>area code</th>\n",
       "      <th>phone number</th>\n",
       "      <th>international plan</th>\n",
       "      <th>voice mail plan</th>\n",
       "      <th>number vmail messages</th>\n",
       "      <th>total day minutes</th>\n",
       "      <th>total day calls</th>\n",
       "      <th>total day charge</th>\n",
       "      <th>...</th>\n",
       "      <th>total eve calls</th>\n",
       "      <th>total eve charge</th>\n",
       "      <th>total night minutes</th>\n",
       "      <th>total night calls</th>\n",
       "      <th>total night charge</th>\n",
       "      <th>total intl minutes</th>\n",
       "      <th>total intl calls</th>\n",
       "      <th>total intl charge</th>\n",
       "      <th>customer service calls</th>\n",
       "      <th>churn</th>\n",
       "    </tr>\n",
       "  </thead>\n",
       "  <tbody>\n",
       "    <tr>\n",
       "      <th>0</th>\n",
       "      <td>KS</td>\n",
       "      <td>128</td>\n",
       "      <td>415</td>\n",
       "      <td>382-4657</td>\n",
       "      <td>no</td>\n",
       "      <td>yes</td>\n",
       "      <td>25</td>\n",
       "      <td>265.1</td>\n",
       "      <td>110</td>\n",
       "      <td>45.07</td>\n",
       "      <td>...</td>\n",
       "      <td>99</td>\n",
       "      <td>16.78</td>\n",
       "      <td>244.7</td>\n",
       "      <td>91</td>\n",
       "      <td>11.01</td>\n",
       "      <td>10.0</td>\n",
       "      <td>3</td>\n",
       "      <td>2.70</td>\n",
       "      <td>1</td>\n",
       "      <td>False</td>\n",
       "    </tr>\n",
       "    <tr>\n",
       "      <th>1</th>\n",
       "      <td>OH</td>\n",
       "      <td>107</td>\n",
       "      <td>415</td>\n",
       "      <td>371-7191</td>\n",
       "      <td>no</td>\n",
       "      <td>yes</td>\n",
       "      <td>26</td>\n",
       "      <td>161.6</td>\n",
       "      <td>123</td>\n",
       "      <td>27.47</td>\n",
       "      <td>...</td>\n",
       "      <td>103</td>\n",
       "      <td>16.62</td>\n",
       "      <td>254.4</td>\n",
       "      <td>103</td>\n",
       "      <td>11.45</td>\n",
       "      <td>13.7</td>\n",
       "      <td>3</td>\n",
       "      <td>3.70</td>\n",
       "      <td>1</td>\n",
       "      <td>False</td>\n",
       "    </tr>\n",
       "    <tr>\n",
       "      <th>2</th>\n",
       "      <td>NJ</td>\n",
       "      <td>137</td>\n",
       "      <td>415</td>\n",
       "      <td>358-1921</td>\n",
       "      <td>no</td>\n",
       "      <td>no</td>\n",
       "      <td>0</td>\n",
       "      <td>243.4</td>\n",
       "      <td>114</td>\n",
       "      <td>41.38</td>\n",
       "      <td>...</td>\n",
       "      <td>110</td>\n",
       "      <td>10.30</td>\n",
       "      <td>162.6</td>\n",
       "      <td>104</td>\n",
       "      <td>7.32</td>\n",
       "      <td>12.2</td>\n",
       "      <td>5</td>\n",
       "      <td>3.29</td>\n",
       "      <td>0</td>\n",
       "      <td>False</td>\n",
       "    </tr>\n",
       "    <tr>\n",
       "      <th>3</th>\n",
       "      <td>OH</td>\n",
       "      <td>84</td>\n",
       "      <td>408</td>\n",
       "      <td>375-9999</td>\n",
       "      <td>yes</td>\n",
       "      <td>no</td>\n",
       "      <td>0</td>\n",
       "      <td>299.4</td>\n",
       "      <td>71</td>\n",
       "      <td>50.90</td>\n",
       "      <td>...</td>\n",
       "      <td>88</td>\n",
       "      <td>5.26</td>\n",
       "      <td>196.9</td>\n",
       "      <td>89</td>\n",
       "      <td>8.86</td>\n",
       "      <td>6.6</td>\n",
       "      <td>7</td>\n",
       "      <td>1.78</td>\n",
       "      <td>2</td>\n",
       "      <td>False</td>\n",
       "    </tr>\n",
       "    <tr>\n",
       "      <th>4</th>\n",
       "      <td>OK</td>\n",
       "      <td>75</td>\n",
       "      <td>415</td>\n",
       "      <td>330-6626</td>\n",
       "      <td>yes</td>\n",
       "      <td>no</td>\n",
       "      <td>0</td>\n",
       "      <td>166.7</td>\n",
       "      <td>113</td>\n",
       "      <td>28.34</td>\n",
       "      <td>...</td>\n",
       "      <td>122</td>\n",
       "      <td>12.61</td>\n",
       "      <td>186.9</td>\n",
       "      <td>121</td>\n",
       "      <td>8.41</td>\n",
       "      <td>10.1</td>\n",
       "      <td>3</td>\n",
       "      <td>2.73</td>\n",
       "      <td>3</td>\n",
       "      <td>False</td>\n",
       "    </tr>\n",
       "  </tbody>\n",
       "</table>\n",
       "<p>5 rows × 21 columns</p>\n",
       "</div>"
      ],
      "text/plain": [
       "  state  account length  area code phone number international plan  \\\n",
       "0    KS             128        415     382-4657                 no   \n",
       "1    OH             107        415     371-7191                 no   \n",
       "2    NJ             137        415     358-1921                 no   \n",
       "3    OH              84        408     375-9999                yes   \n",
       "4    OK              75        415     330-6626                yes   \n",
       "\n",
       "  voice mail plan  number vmail messages  total day minutes  total day calls  \\\n",
       "0             yes                     25              265.1              110   \n",
       "1             yes                     26              161.6              123   \n",
       "2              no                      0              243.4              114   \n",
       "3              no                      0              299.4               71   \n",
       "4              no                      0              166.7              113   \n",
       "\n",
       "   total day charge  ...  total eve calls  total eve charge  \\\n",
       "0             45.07  ...               99             16.78   \n",
       "1             27.47  ...              103             16.62   \n",
       "2             41.38  ...              110             10.30   \n",
       "3             50.90  ...               88              5.26   \n",
       "4             28.34  ...              122             12.61   \n",
       "\n",
       "   total night minutes  total night calls  total night charge  \\\n",
       "0                244.7                 91               11.01   \n",
       "1                254.4                103               11.45   \n",
       "2                162.6                104                7.32   \n",
       "3                196.9                 89                8.86   \n",
       "4                186.9                121                8.41   \n",
       "\n",
       "   total intl minutes  total intl calls  total intl charge  \\\n",
       "0                10.0                 3               2.70   \n",
       "1                13.7                 3               3.70   \n",
       "2                12.2                 5               3.29   \n",
       "3                 6.6                 7               1.78   \n",
       "4                10.1                 3               2.73   \n",
       "\n",
       "   customer service calls  churn  \n",
       "0                       1  False  \n",
       "1                       1  False  \n",
       "2                       0  False  \n",
       "3                       2  False  \n",
       "4                       3  False  \n",
       "\n",
       "[5 rows x 21 columns]"
      ]
     },
     "execution_count": 2,
     "metadata": {},
     "output_type": "execute_result"
    }
   ],
   "source": [
    "# load dataset\n",
    "df = pd.read_csv('bigml_59c28831336c6604c800002a.csv')\n",
    "\n",
    "# print the first 5 rows\n",
    "df.head()"
   ]
  },
  {
   "cell_type": "markdown",
   "metadata": {},
   "source": [
    "### Check the data"
   ]
  },
  {
   "cell_type": "code",
   "execution_count": 3,
   "metadata": {},
   "outputs": [
    {
     "name": "stdout",
     "output_type": "stream",
     "text": [
      "<class 'pandas.core.frame.DataFrame'>\n",
      "RangeIndex: 3333 entries, 0 to 3332\n",
      "Data columns (total 21 columns):\n",
      " #   Column                  Non-Null Count  Dtype  \n",
      "---  ------                  --------------  -----  \n",
      " 0   state                   3333 non-null   object \n",
      " 1   account length          3333 non-null   int64  \n",
      " 2   area code               3333 non-null   int64  \n",
      " 3   phone number            3333 non-null   object \n",
      " 4   international plan      3333 non-null   object \n",
      " 5   voice mail plan         3333 non-null   object \n",
      " 6   number vmail messages   3333 non-null   int64  \n",
      " 7   total day minutes       3333 non-null   float64\n",
      " 8   total day calls         3333 non-null   int64  \n",
      " 9   total day charge        3333 non-null   float64\n",
      " 10  total eve minutes       3333 non-null   float64\n",
      " 11  total eve calls         3333 non-null   int64  \n",
      " 12  total eve charge        3333 non-null   float64\n",
      " 13  total night minutes     3333 non-null   float64\n",
      " 14  total night calls       3333 non-null   int64  \n",
      " 15  total night charge      3333 non-null   float64\n",
      " 16  total intl minutes      3333 non-null   float64\n",
      " 17  total intl calls        3333 non-null   int64  \n",
      " 18  total intl charge       3333 non-null   float64\n",
      " 19  customer service calls  3333 non-null   int64  \n",
      " 20  churn                   3333 non-null   bool   \n",
      "dtypes: bool(1), float64(8), int64(8), object(4)\n",
      "memory usage: 524.2+ KB\n",
      "None\n"
     ]
    }
   ],
   "source": [
    "print(df.info())"
   ]
  },
  {
   "cell_type": "markdown",
   "metadata": {},
   "source": [
    "There are no missing values to the data. Though somm of the columns have incorrect data types. These columns are; Area code, total day charge, total eve charge and total night charge. "
   ]
  },
  {
   "cell_type": "code",
   "execution_count": 4,
   "metadata": {},
   "outputs": [
    {
     "name": "stdout",
     "output_type": "stream",
     "text": [
      "  total day charge total eve charge total night charge total intl charge\n",
      "0           $45.07           $16.78             $11.01             $2.70\n",
      "1           $27.47           $16.62             $11.45             $3.70\n",
      "2           $41.38           $10.30              $7.32             $3.29\n",
      "3           $50.90            $5.26              $8.86             $1.78\n",
      "4           $28.34           $12.61              $8.41             $2.73\n"
     ]
    }
   ],
   "source": [
    "# Change the datatype of area code column to object\n",
    "df['area code'] = df['area code'].astype(object)\n",
    "\n",
    "# Change the datatype of total day charge, total eve charge and total night charge to currency\n",
    "columns_to_convert = ['total day charge', 'total eve charge', 'total night charge', 'total intl charge']\n",
    "\n",
    "# Set the number of decimal places for currency representation\n",
    "decimal_places = 2\n",
    "\n",
    "# Convert the selected columns to currency format\n",
    "for column in columns_to_convert:\n",
    "    df[column] = df[column].apply(lambda x: f\"${x:.{decimal_places}f}\")\n",
    "\n",
    "# Verify the new datatypes\n",
    "print(df[columns_to_convert].head())"
   ]
  },
  {
   "cell_type": "code",
   "execution_count": 5,
   "metadata": {},
   "outputs": [
    {
     "data": {
      "text/html": [
       "<div>\n",
       "<style scoped>\n",
       "    .dataframe tbody tr th:only-of-type {\n",
       "        vertical-align: middle;\n",
       "    }\n",
       "\n",
       "    .dataframe tbody tr th {\n",
       "        vertical-align: top;\n",
       "    }\n",
       "\n",
       "    .dataframe thead th {\n",
       "        text-align: right;\n",
       "    }\n",
       "</style>\n",
       "<table border=\"1\" class=\"dataframe\">\n",
       "  <thead>\n",
       "    <tr style=\"text-align: right;\">\n",
       "      <th></th>\n",
       "      <th>account length</th>\n",
       "      <th>number vmail messages</th>\n",
       "      <th>total day minutes</th>\n",
       "      <th>total day calls</th>\n",
       "      <th>total eve minutes</th>\n",
       "      <th>total eve calls</th>\n",
       "      <th>total night minutes</th>\n",
       "      <th>total night calls</th>\n",
       "      <th>total intl minutes</th>\n",
       "      <th>total intl calls</th>\n",
       "      <th>customer service calls</th>\n",
       "    </tr>\n",
       "  </thead>\n",
       "  <tbody>\n",
       "    <tr>\n",
       "      <th>count</th>\n",
       "      <td>3333.000000</td>\n",
       "      <td>3333.000000</td>\n",
       "      <td>3333.000000</td>\n",
       "      <td>3333.000000</td>\n",
       "      <td>3333.000000</td>\n",
       "      <td>3333.000000</td>\n",
       "      <td>3333.000000</td>\n",
       "      <td>3333.000000</td>\n",
       "      <td>3333.000000</td>\n",
       "      <td>3333.000000</td>\n",
       "      <td>3333.000000</td>\n",
       "    </tr>\n",
       "    <tr>\n",
       "      <th>mean</th>\n",
       "      <td>101.064806</td>\n",
       "      <td>8.099010</td>\n",
       "      <td>179.775098</td>\n",
       "      <td>100.435644</td>\n",
       "      <td>200.980348</td>\n",
       "      <td>100.114311</td>\n",
       "      <td>200.872037</td>\n",
       "      <td>100.107711</td>\n",
       "      <td>10.237294</td>\n",
       "      <td>4.479448</td>\n",
       "      <td>1.562856</td>\n",
       "    </tr>\n",
       "    <tr>\n",
       "      <th>std</th>\n",
       "      <td>39.822106</td>\n",
       "      <td>13.688365</td>\n",
       "      <td>54.467389</td>\n",
       "      <td>20.069084</td>\n",
       "      <td>50.713844</td>\n",
       "      <td>19.922625</td>\n",
       "      <td>50.573847</td>\n",
       "      <td>19.568609</td>\n",
       "      <td>2.791840</td>\n",
       "      <td>2.461214</td>\n",
       "      <td>1.315491</td>\n",
       "    </tr>\n",
       "    <tr>\n",
       "      <th>min</th>\n",
       "      <td>1.000000</td>\n",
       "      <td>0.000000</td>\n",
       "      <td>0.000000</td>\n",
       "      <td>0.000000</td>\n",
       "      <td>0.000000</td>\n",
       "      <td>0.000000</td>\n",
       "      <td>23.200000</td>\n",
       "      <td>33.000000</td>\n",
       "      <td>0.000000</td>\n",
       "      <td>0.000000</td>\n",
       "      <td>0.000000</td>\n",
       "    </tr>\n",
       "    <tr>\n",
       "      <th>25%</th>\n",
       "      <td>74.000000</td>\n",
       "      <td>0.000000</td>\n",
       "      <td>143.700000</td>\n",
       "      <td>87.000000</td>\n",
       "      <td>166.600000</td>\n",
       "      <td>87.000000</td>\n",
       "      <td>167.000000</td>\n",
       "      <td>87.000000</td>\n",
       "      <td>8.500000</td>\n",
       "      <td>3.000000</td>\n",
       "      <td>1.000000</td>\n",
       "    </tr>\n",
       "    <tr>\n",
       "      <th>50%</th>\n",
       "      <td>101.000000</td>\n",
       "      <td>0.000000</td>\n",
       "      <td>179.400000</td>\n",
       "      <td>101.000000</td>\n",
       "      <td>201.400000</td>\n",
       "      <td>100.000000</td>\n",
       "      <td>201.200000</td>\n",
       "      <td>100.000000</td>\n",
       "      <td>10.300000</td>\n",
       "      <td>4.000000</td>\n",
       "      <td>1.000000</td>\n",
       "    </tr>\n",
       "    <tr>\n",
       "      <th>75%</th>\n",
       "      <td>127.000000</td>\n",
       "      <td>20.000000</td>\n",
       "      <td>216.400000</td>\n",
       "      <td>114.000000</td>\n",
       "      <td>235.300000</td>\n",
       "      <td>114.000000</td>\n",
       "      <td>235.300000</td>\n",
       "      <td>113.000000</td>\n",
       "      <td>12.100000</td>\n",
       "      <td>6.000000</td>\n",
       "      <td>2.000000</td>\n",
       "    </tr>\n",
       "    <tr>\n",
       "      <th>max</th>\n",
       "      <td>243.000000</td>\n",
       "      <td>51.000000</td>\n",
       "      <td>350.800000</td>\n",
       "      <td>165.000000</td>\n",
       "      <td>363.700000</td>\n",
       "      <td>170.000000</td>\n",
       "      <td>395.000000</td>\n",
       "      <td>175.000000</td>\n",
       "      <td>20.000000</td>\n",
       "      <td>20.000000</td>\n",
       "      <td>9.000000</td>\n",
       "    </tr>\n",
       "  </tbody>\n",
       "</table>\n",
       "</div>"
      ],
      "text/plain": [
       "       account length  number vmail messages  total day minutes  \\\n",
       "count     3333.000000            3333.000000        3333.000000   \n",
       "mean       101.064806               8.099010         179.775098   \n",
       "std         39.822106              13.688365          54.467389   \n",
       "min          1.000000               0.000000           0.000000   \n",
       "25%         74.000000               0.000000         143.700000   \n",
       "50%        101.000000               0.000000         179.400000   \n",
       "75%        127.000000              20.000000         216.400000   \n",
       "max        243.000000              51.000000         350.800000   \n",
       "\n",
       "       total day calls  total eve minutes  total eve calls  \\\n",
       "count      3333.000000        3333.000000      3333.000000   \n",
       "mean        100.435644         200.980348       100.114311   \n",
       "std          20.069084          50.713844        19.922625   \n",
       "min           0.000000           0.000000         0.000000   \n",
       "25%          87.000000         166.600000        87.000000   \n",
       "50%         101.000000         201.400000       100.000000   \n",
       "75%         114.000000         235.300000       114.000000   \n",
       "max         165.000000         363.700000       170.000000   \n",
       "\n",
       "       total night minutes  total night calls  total intl minutes  \\\n",
       "count          3333.000000        3333.000000         3333.000000   \n",
       "mean            200.872037         100.107711           10.237294   \n",
       "std              50.573847          19.568609            2.791840   \n",
       "min              23.200000          33.000000            0.000000   \n",
       "25%             167.000000          87.000000            8.500000   \n",
       "50%             201.200000         100.000000           10.300000   \n",
       "75%             235.300000         113.000000           12.100000   \n",
       "max             395.000000         175.000000           20.000000   \n",
       "\n",
       "       total intl calls  customer service calls  \n",
       "count       3333.000000             3333.000000  \n",
       "mean           4.479448                1.562856  \n",
       "std            2.461214                1.315491  \n",
       "min            0.000000                0.000000  \n",
       "25%            3.000000                1.000000  \n",
       "50%            4.000000                1.000000  \n",
       "75%            6.000000                2.000000  \n",
       "max           20.000000                9.000000  "
      ]
     },
     "execution_count": 5,
     "metadata": {},
     "output_type": "execute_result"
    }
   ],
   "source": [
    "# describe the data\n",
    "df.describe()"
   ]
  },
  {
   "cell_type": "markdown",
   "metadata": {},
   "source": [
    "## Data distribution."
   ]
  },
  {
   "cell_type": "markdown",
   "metadata": {},
   "source": [
    "### Key numeric variables"
   ]
  },
  {
   "cell_type": "code",
   "execution_count": 6,
   "metadata": {
    "scrolled": false
   },
   "outputs": [
    {
     "data": {
      "image/png": "[encoded data removed]",
      "text/plain": [
       "<Figure size 1080x720 with 6 Axes>"
      ]
     },
     "metadata": {
      "needs_background": "light"
     },
     "output_type": "display_data"
    }
   ],
   "source": [
    "import matplotlib.pyplot as plt\n",
    "\n",
    "# Select columns for which you want to plot histograms\n",
    "columns_to_plot = ['account length', 'number vmail messages', 'total day minutes', 'total eve minutes', 'total night minutes', 'total intl minutes']\n",
    "\n",
    "# Set the number of bins for the histograms (you can adjust this as needed)\n",
    "num_bins = 20\n",
    "\n",
    "# Create subplots to display histograms\n",
    "plt.figure(figsize=(15, 10))\n",
    "for i, column in enumerate(columns_to_plot):\n",
    "    plt.subplot(2, 3, i + 1)\n",
    "    plt.hist(df[column], bins=num_bins, edgecolor='k')\n",
    "    plt.title(column)\n",
    "    plt.xlabel(column)\n",
    "    plt.ylabel('Frequency')\n",
    "\n",
    "plt.tight_layout()\n",
    "plt.show()\n"
   ]
  },
  {
   "cell_type": "code",
   "execution_count": 7,
   "metadata": {},
   "outputs": [
    {
     "data": {
      "image/png": "[encoded data removed]",
      "text/plain": [
       "<Figure size 1080x720 with 4 Axes>"
      ]
     },
     "metadata": {
      "needs_background": "light"
     },
     "output_type": "display_data"
    }
   ],
   "source": [
    "# Select columns for which you want to plot histograms\n",
    "columns_to_plot = ['total day calls', 'total eve calls', 'total night calls', 'customer service calls']\n",
    "\n",
    "# Set the number of bins for the histograms (you can adjust this as needed)\n",
    "num_bins = 20\n",
    "\n",
    "# Create subplots to display histograms\n",
    "plt.figure(figsize=(15, 10))\n",
    "for i, column in enumerate(columns_to_plot):\n",
    "    plt.subplot(2, 3, i + 1)\n",
    "    plt.hist(df[column], bins=num_bins, edgecolor='k')\n",
    "    plt.title(column)\n",
    "    plt.xlabel(column)\n",
    "    plt.ylabel('Frequency')\n",
    "\n",
    "plt.tight_layout()\n",
    "plt.show()"
   ]
  },
  {
   "cell_type": "markdown",
   "metadata": {},
   "source": [
    "### Categorical variables."
   ]
  },
  {
   "cell_type": "code",
   "execution_count": 8,
   "metadata": {},
   "outputs": [
    {
     "data": {
      "image/png": "[encoded data removed]",
      "text/plain": [
       "<Figure size 1080x360 with 3 Axes>"
      ]
     },
     "metadata": {
      "needs_background": "light"
     },
     "output_type": "display_data"
    }
   ],
   "source": [
    "import seaborn as sns\n",
    "\n",
    "# Select the categorical variables you want to analyze\n",
    "categorical_columns = ['state', 'international plan', 'voice mail plan']\n",
    "\n",
    "# Set the figure size\n",
    "plt.figure(figsize=(15, 5))\n",
    "\n",
    "# Loop through the selected categorical columns and create count plots\n",
    "for i, column in enumerate(categorical_columns):\n",
    "    plt.subplot(1, len(categorical_columns), i + 1)\n",
    "    \n",
    "    # Create a count plot\n",
    "    sns.countplot(data=df, x=column, palette='Set2')\n",
    "    \n",
    "    # Set labels and title\n",
    "    plt.xlabel(column)\n",
    "    plt.ylabel('Count')\n",
    "    plt.title(f'Distribution of {column}')\n",
    "\n",
    "# Adjust spacing between subplots\n",
    "plt.tight_layout()\n",
    "\n",
    "# Show the plots\n",
    "plt.show()\n"
   ]
  },
  {
   "cell_type": "markdown",
   "metadata": {},
   "source": [
    "### Relationship between features and churn"
   ]
  },
  {
   "cell_type": "code",
   "execution_count": 9,
   "metadata": {},
   "outputs": [
    {
     "data": {
      "image/png": "[encoded data removed]",
      "text/plain": [
       "<Figure size 1080x576 with 4 Axes>"
      ]
     },
     "metadata": {
      "needs_background": "light"
     },
     "output_type": "display_data"
    }
   ],
   "source": [
    "# Select features of interest (numeric or categorical) that you want to analyze\n",
    "features_of_interest = ['total day minutes', 'total eve minutes', 'total night minutes', 'customer service calls']\n",
    "\n",
    "# Set the figure size\n",
    "plt.figure(figsize=(15, 8))\n",
    "\n",
    "# Loop through the selected features and create box plots or histograms\n",
    "for i, feature in enumerate(features_of_interest):\n",
    "    plt.subplot(2, 2, i + 1)\n",
    "    \n",
    "    # Create a box plot for numeric features or a count plot for categorical features\n",
    "    if df[feature].dtype == 'object':\n",
    "        sns.countplot(data=df, x=feature, hue='churn', palette='Set2')\n",
    "    else:\n",
    "        sns.boxplot(data=df, x='churn', y=feature, palette='Set2')\n",
    "    \n",
    "    # Set labels and title\n",
    "    plt.xlabel('Churn')\n",
    "    plt.ylabel(feature)\n",
    "    plt.title(f'Relationship between {feature} and Churn')\n",
    "\n",
    "# Adjust spacing between subplots\n",
    "plt.tight_layout()\n",
    "\n",
    "# Show the plots\n",
    "plt.show()\n"
   ]
  },
  {
   "cell_type": "markdown",
   "metadata": {},
   "source": [
    "# Customer Service Calls Analysis.\n",
    "\n",
    "## Visualize the relationship.\n",
    "\n",
    "here I will create a boxplot to visualize the relationship between the umber of customer service calls and churn."
   ]
  },
  {
   "cell_type": "code",
   "execution_count": 10,
   "metadata": {},
   "outputs": [
    {
     "data": {
      "image/png": "[encoded data removed]",
      "text/plain": [
       "<Figure size 576x432 with 1 Axes>"
      ]
     },
     "metadata": {
      "needs_background": "light"
     },
     "output_type": "display_data"
    }
   ],
   "source": [
    "# Create a box plot to compare customer service calls for churned and non-churned customers\n",
    "plt.figure(figsize=(8, 6))\n",
    "sns.boxplot(data=df, x='churn', y='customer service calls', palette='Set2')\n",
    "plt.title('Relationship between Customer Service Calls and Churn')\n",
    "plt.xlabel('Churn')\n",
    "plt.ylabel('Customer Service Calls')\n",
    "plt.show()"
   ]
  },
  {
   "cell_type": "markdown",
   "metadata": {},
   "source": [
    "### calculate summary statistics.\n",
    "I will calculte summary statistics "
   ]
  },
  {
   "cell_type": "code",
   "execution_count": 11,
   "metadata": {},
   "outputs": [
    {
     "name": "stdout",
     "output_type": "stream",
     "text": [
      "Churned Customer Service Calls - Mean: 2.23, Median: 2.00, Std Dev: 1.85\n",
      "Non-Churned Customer Service Calls - Mean: 1.45, Median: 1.00, Std Dev: 1.16\n"
     ]
    }
   ],
   "source": [
    "# Summary statistics for customer service calls for churned customers\n",
    "churned_calls = df[df['churn'] == True]['customer service calls']\n",
    "mean_churned = churned_calls.mean()\n",
    "median_churned = churned_calls.median()\n",
    "std_churned = churned_calls.std()\n",
    "\n",
    "# Summary statistics for customer service calls for non-churned customers\n",
    "non_churned_calls = df[df['churn'] == False]['customer service calls']\n",
    "mean_non_churned = non_churned_calls.mean()\n",
    "median_non_churned = non_churned_calls.median()\n",
    "std_non_churned = non_churned_calls.std()\n",
    "\n",
    "print(\"Churned Customer Service Calls - Mean: {:.2f}, Median: {:.2f}, Std Dev: {:.2f}\".format(mean_churned, median_churned, std_churned))\n",
    "print(\"Non-Churned Customer Service Calls - Mean: {:.2f}, Median: {:.2f}, Std Dev: {:.2f}\".format(mean_non_churned, median_non_churned, std_non_churned))\n"
   ]
  },
  {
   "cell_type": "markdown",
   "metadata": {},
   "source": [
    "### Calculate the correlation.\n",
    "Here we get to know the correlation between the number of customer service calls and churn.\n",
    "i will use a poit-biseral correlation coefficient  since churn is a binary variable while the customer service calls is a continuous variable."
   ]
  },
  {
   "cell_type": "code",
   "execution_count": 12,
   "metadata": {},
   "outputs": [
    {
     "name": "stdout",
     "output_type": "stream",
     "text": [
      "Point-Biserial Correlation: 0.21\n",
      "The correlation is statistically significant (p-value < 0.05).\n"
     ]
    }
   ],
   "source": [
    "from scipy import stats\n",
    "\n",
    "# Calculate point-biserial correlation between 'customer service calls' and 'churn'\n",
    "correlation, p_value = stats.pointbiserialr(df['customer service calls'], df['churn'])\n",
    "\n",
    "# Print the correlation coefficient\n",
    "print(\"Point-Biserial Correlation: {:.2f}\".format(correlation))\n",
    "\n",
    "# Determine if the correlation is statistically significant\n",
    "alpha = 0.05  # Set your significance level (e.g., 0.05)\n",
    "if p_value < alpha:\n",
    "    print(\"The correlation is statistically significant (p-value < {:.2f}).\".format(alpha))\n",
    "else:\n",
    "    print(\"The correlation is not statistically significant (p-value >= {:.2f}).\".format(alpha))\n"
   ]
  },
  {
   "cell_type": "code",
   "execution_count": 13,
   "metadata": {},
   "outputs": [
    {
     "data": {
      "image/png": "[encoded data removed]",
      "text/plain": [
       "<Figure size 576x432 with 1 Axes>"
      ]
     },
     "metadata": {
      "needs_background": "light"
     },
     "output_type": "display_data"
    }
   ],
   "source": [
    "# Set the figure size\n",
    "plt.figure(figsize=(8, 6))\n",
    "\n",
    "# Create a point-biserial correlation plot\n",
    "sns.pointplot(data=df, x='churn', y='customer service calls', ci='sd', palette='Set2')\n",
    "plt.title('Point-Biserial Correlation Between Customer Service Calls and Churn')\n",
    "plt.xlabel('Churn')\n",
    "plt.ylabel('Customer Service Calls')\n",
    "plt.show()"
   ]
  },
  {
   "cell_type": "markdown",
   "metadata": {},
   "source": [
    "This means that as the number of customer service calls increases, the likelihood of churn also increases."
   ]
  },
  {
   "cell_type": "markdown",
   "metadata": {},
   "source": [
    "# Day and Night Calls Analysis."
   ]
  },
  {
   "cell_type": "markdown",
   "metadata": {},
   "source": [
    "I would like to know what difference does the time of calls affect the churn of the customers.\n",
    "\n",
    "I will work it in a few segments; \n",
    "\n",
    "    -Between Day and Night time users which were inclined to stop using the service.\n",
    "    -Did the costs of the calls in the different times encourage the churn.\n",
    "    \n",
    "\n",
    "## Correation of churn with the time of day users.\n",
    "\n",
    "### First group the data into day and night users."
   ]
  },
  {
   "cell_type": "code",
   "execution_count": 14,
   "metadata": {},
   "outputs": [
    {
     "name": "stdout",
     "output_type": "stream",
     "text": [
      "Time of Day: Day, User Count: 1280\n",
      "Time of Day: Night, User Count: 2053\n"
     ]
    },
    {
     "name": "stderr",
     "output_type": "stream",
     "text": [
      "C:\\Users\\User\\anaconda3\\envs\\learn-env\\lib\\site-packages\\pandas\\core\\generic.py:2605: UserWarning: The spaces in these column names will not be changed. In pandas versions < 0.14, spaces were converted to underscores.\n",
      "  sql.to_sql(\n"
     ]
    }
   ],
   "source": [
    "# import sqlite3\n",
    "import sqlite3\n",
    "\n",
    "# Create a new column 'time_of_day' based on minutes\n",
    "df['time_of_day'] = df.apply(lambda row: 'Day' if row['total day minutes'] > row['total night minutes'] else 'Night', axis=1)\n",
    "\n",
    "# Connect to a SQLite database\n",
    "conn = sqlite3.connect('user_data.db')\n",
    "\n",
    "# Store the DataFrame in the SQLite database\n",
    "df.to_sql('user_data', conn, if_exists='replace', index=False)\n",
    "\n",
    "# Use SQL to group the users by 'time_of_day'\n",
    "query = \"\"\"\n",
    "SELECT time_of_day, COUNT(*) as user_count\n",
    "FROM user_data\n",
    "GROUP BY time_of_day\n",
    "\"\"\"\n",
    "\n",
    "# Execute the SQL query and fetch the results\n",
    "results = conn.execute(query).fetchall()\n",
    "\n",
    "# Close the database connection\n",
    "conn.close()\n",
    "\n",
    "# Print the results\n",
    "for result in results:\n",
    "    print(f\"Time of Day: {result[0]}, User Count: {result[1]}\")"
   ]
  },
  {
   "cell_type": "markdown",
   "metadata": {},
   "source": [
    "### Get the correlation between churn and time of day."
   ]
  },
  {
   "cell_type": "code",
   "execution_count": 15,
   "metadata": {},
   "outputs": [
    {
     "name": "stdout",
     "output_type": "stream",
     "text": [
      "Point-Biserial Correlation: 0.12\n",
      "The correlation is statistically significant (p-value < 0.05).\n"
     ]
    }
   ],
   "source": [
    "# Convert 'churn' to binary values (1 for True, 0 for False)\n",
    "df['churn'] = df['churn'].astype(int)\n",
    "\n",
    "# Calculate point-biserial correlation between 'time_of_day' and 'churn'\n",
    "correlation, p_value = stats.pointbiserialr(df['time_of_day'].map({'Day': 1, 'Night': 0}), df['churn'])\n",
    "\n",
    "# Print the correlation coefficient\n",
    "print(\"Point-Biserial Correlation: {:.2f}\".format(correlation))\n",
    "\n",
    "# Determine if the correlation is statistically significant\n",
    "alpha = 0.05  # Set your significance level (e.g., 0.05)\n",
    "if p_value < alpha:\n",
    "    print(\"The correlation is statistically significant (p-value < {:.2f}).\".format(alpha))\n",
    "else:\n",
    "    print(\"The correlation is not statistically significant (p-value >= {:.2f}).\".format(alpha))"
   ]
  },
  {
   "cell_type": "code",
   "execution_count": 16,
   "metadata": {},
   "outputs": [
    {
     "data": {
      "image/png": "[encoded data removed]",
      "text/plain": [
       "<Figure size 432x288 with 1 Axes>"
      ]
     },
     "metadata": {
      "needs_background": "light"
     },
     "output_type": "display_data"
    }
   ],
   "source": [
    "# Create a grouped bar chart\n",
    "churn_counts = df.groupby(['time_of_day', 'churn']).size().unstack()\n",
    "churn_counts.plot(kind='bar', stacked=True)\n",
    "\n",
    "# Set labels and title\n",
    "plt.xlabel('Time of Day')\n",
    "plt.ylabel('Count')\n",
    "plt.title('Churn Distribution by Time of Day')\n",
    "\n",
    "# Show the chart\n",
    "plt.show()"
   ]
  },
  {
   "cell_type": "markdown",
   "metadata": {},
   "source": [
    "The correlation does not give a conclusive so I will further do comparitive analysis of the call costs for customers who churned and those who didn't. This will be accomplished using statistical tests and visualization.\n",
    "\n",
    "I will create two subsets one for customers who churned and the other for others who didn't. I will then perform a t-test to determine if there's a significant difference in the costs of calls during day and night of these two groups.\n"
   ]
  },
  {
   "cell_type": "code",
   "execution_count": 17,
   "metadata": {
    "scrolled": false
   },
   "outputs": [
    {
     "name": "stdout",
     "output_type": "stream",
     "text": [
      "There is a significant difference in day call costs between churned and not churned customers.\n",
      "\n",
      "There is a significant difference in night call costs between churned and not churned customers.\n"
     ]
    }
   ],
   "source": [
    "# Remove the dollar sign and convert 'total day charge' and 'total night charge' to numeric\n",
    "df['total day charge'] = pd.to_numeric(df['total day charge'].str.replace('$', ''))\n",
    "df['total night charge'] = pd.to_numeric(df['total night charge'].str.replace('$', ''))\n",
    "\n",
    "# create two subsets \n",
    "churned = df[df['churn'] == True]\n",
    "not_churned = df[df['churn'] == False]\n",
    "\n",
    "# perform a t-test for the day users\n",
    "t_stat, p_value = stats.ttest_ind(churned['total day charge'], not_churned['total day charge'])\n",
    "\n",
    "if p_value < 0.05:\n",
    "    print(\"There is a significant difference in day call costs between churned and not churned customers.\")\n",
    "else:\n",
    "    print(\"There is no significant difference in day call costs between churned and not churned customers.\")\n",
    "    \n",
    "print()    \n",
    "# perform a t-test for the night users\n",
    "t_stat, p_value = stats.ttest_ind(churned['total night charge'], not_churned['total night charge'])\n",
    "\n",
    "if p_value < 0.05:\n",
    "    print(\"There is a significant difference in night call costs between churned and not churned customers.\")\n",
    "else:\n",
    "    print(\"There is no significant difference in night call costs between churned and not churned customers.\")\n",
    " "
   ]
  },
  {
   "cell_type": "code",
   "execution_count": 18,
   "metadata": {},
   "outputs": [
    {
     "data": {
      "image/png": "[encoded data removed]",
      "text/plain": [
       "<Figure size 576x432 with 1 Axes>"
      ]
     },
     "metadata": {
      "needs_background": "light"
     },
     "output_type": "display_data"
    }
   ],
   "source": [
    "plt.figure(figsize=(8, 6))\n",
    "sns.boxplot(data=df, x='churn', y='total day charge', hue='time_of_day', palette='Set2')\n",
    "plt.title('Day Call Costs by Churn Status')\n",
    "plt.xlabel('Churn')\n",
    "plt.ylabel('Total Day Charge')\n",
    "plt.show()"
   ]
  },
  {
   "cell_type": "markdown",
   "metadata": {},
   "source": [
    "The bar graph shows the average call costs for churned and non-churned customers during the day and night. We can see that churned customers have higher call costs than non-churned customers in both periods, but the difference is more pronounced during the night. This suggests that high call costs during the night may be a factor that influences customer churn."
   ]
  },
  {
   "cell_type": "markdown",
   "metadata": {},
   "source": [
    " # International Plan Analysis.\n",
    " Here I will answer the following questions.\n",
    "   - How does having an international plan relate to churn?\n",
    "   - Are customers with international plans more or less likely to churn?\n",
    "   \n",
    " I will follow the following steps;\n",
    "   - Compute churn rates for customers with and without international plans.\n",
    "   - Use chi-squared test to determine if there's a statisticallysignificant difference in churn rates between customers with and without international plans.\n",
    "           - My null hypothesis would be; there's no association between having an international plan and churn,and the alternative hypothesis would be that there is an association.\n",
    "   - I will then create a visualization to represent the churn rates for these group of customers. "
   ]
  },
  {
   "cell_type": "code",
   "execution_count": 19,
   "metadata": {},
   "outputs": [
    {
     "name": "stdout",
     "output_type": "stream",
     "text": [
      "There is a statistically significant association between having an international plan and churn.\n"
     ]
    },
    {
     "data": {
      "image/png": "[encoded data removed]",
      "text/plain": [
       "<Figure size 432x288 with 1 Axes>"
      ]
     },
     "metadata": {
      "needs_background": "light"
     },
     "output_type": "display_data"
    }
   ],
   "source": [
    "from scipy.stats import chi2_contingency\n",
    "\n",
    "# Calculate churn rates\n",
    "churn_rates = df.groupby('international plan')['churn'].mean() * 100\n",
    "\n",
    "# Perform a chi-squared test\n",
    "contingency_table = pd.crosstab(df['international plan'], df['churn'])\n",
    "chi2, p, _, _ = chi2_contingency(contingency_table)\n",
    "\n",
    "# Visualize churn rates\n",
    "sns.barplot(x=churn_rates.index, y=churn_rates.values)\n",
    "plt.xlabel('International Plan')\n",
    "plt.ylabel('Churn Rate (%)')\n",
    "plt.title('Churn Rate by International Plan')\n",
    "\n",
    "# Print the chi-squared test result\n",
    "if p < 0.05:\n",
    "    print(\"There is a statistically significant association between having an international plan and churn.\")\n",
    "else:\n",
    "    print(\"There is no statistically significant association between having an international plan and churn.\")\n",
    "\n",
    "plt.show()\n"
   ]
  },
  {
   "cell_type": "markdown",
   "metadata": {},
   "source": []
  }
 ],
 "metadata": {
  "kernelspec": {
   "display_name": "Python 3",
   "language": "python",
   "name": "python3"
  },
  "language_info": {
   "codemirror_mode": {
    "name": "ipython",
    "version": 3
   },
   "file_extension": ".py",
   "mimetype": "text/x-python",
   "name": "python",
   "nbconvert_exporter": "python",
   "pygments_lexer": "ipython3",
   "version": "3.8.5"
  }
 },
 "nbformat": 4,
 "nbformat_minor": 2
}
